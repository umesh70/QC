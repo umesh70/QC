{
 "cells": [
  {
   "cell_type": "markdown",
   "metadata": {},
   "source": [
    "# Shannon Entropy \n",
    "\n",
    "- In Simpler terms, the shannon entropy can be used to measure the uncertainity of a system. It does so by taking the base 2 logarithm of the probability of a given message occuring.\n",
    "\n",
    "    $$I = -\\log_2 p$$\n",
    "\n",
    "\n",
    "- If a message has a very high probability of occurrence, then we don’t gain all that much new information when we come across it. On the other hand, if a message has a low probability of occurrence, when we are made of aware of it, we gain a significant amount of information.\n",
    "- for example lets say the probability of raining tomorrow is **0.08** and the probability of not raining tomorrow is **0.92.**.\n",
    "\n",
    "- Now as per shannon entropy \n",
    " $$I = -\\log_2 0.08 = 3.644$$\n",
    "$$I' = -\\log_2 0.92 = 0.1203$$\n",
    "\n",
    "- Now by above example we can draw the following conclusions\n",
    "-  A message that is unlikely to occur has a low probability and therefore has a large information content\n",
    "-  A message that is very likely to occur has a high probability and therefore\n",
    "has a small information content.\n",
    "\n",
    "- We can now move onto why or how we can say shannon entropy is used to quantify uncertainity.\n",
    "- Suppose we have a signal that always transmitw a \"2\", the signal looks like a string of **22222222....** , and by definition the probability of 2 is 1.\n",
    "then the entropy is \n",
    "$$I = -\\log_2 1 = 0$$\n",
    "- And since there is no change in signal or disorder the entropy is 0.\n",
    "- We can summarize Shannon entropy as \n",
    "    - Decrease uncertainty ⇒ Increase information\n",
    "    - Increase uncertainty ⇒ Increase entropy\n",
    "- formally, Shannon entropy can be defined as\n",
    "\n",
    "- $$H(X) = -\\sum_{i} p_i \\log_2 p_i$$\n"
   ]
  },
  {
   "cell_type": "markdown",
   "metadata": {},
   "source": [
    "# Conditional Entropy \n",
    "- $$H(X|Y) = -\\sum_j p(x_j|y_i) \\log_2(p(x_j|y_i))$$\n",
    "\n",
    "- This is conditional entropy of two variables **X** and **Y** with probability distributions **$p$** and **$y_i$** is a fixed value from **Y**.\n",
    "- It measures how much uncertainity remains about X when we already know some variable Y. "
   ]
  },
  {
   "cell_type": "markdown",
   "metadata": {},
   "source": [
    "# Qubit\n",
    "\n",
    "- A qubit is a quantum version of the classical binary bit. A classical bit can either be 0 or 1, whereas a Qubit can exist in states analogous to both 0 and 1.\n",
    "\n",
    "- A qubit is a two state quantum mechanical system, meaning a qubit can exist in two distinct states simultaneously,which is not possible in classical bits, it is represented by a linear superposition of its two basis vectors ( ∣0⟩ , ∣1⟩ ).\n",
    "\n",
    "- - $ψ$ = $α∣0⟩+β∣1⟩$\n",
    "- here ( ∣0⟩ , ∣1⟩ ) are represented by\n",
    "- $|0\\rangle = \\begin{bmatrix} 1 \\\\ 0  \\end{bmatrix}$\n",
    "- $|1\\rangle = \\begin{bmatrix} 0 \\\\ 1 \\end{bmatrix}$\n",
    "\n",
    "- **𝛼** and **𝛽** are complex coefficients that determine the probability amplitudes of the qubit being in each of the two states."
   ]
  },
  {
   "cell_type": "markdown",
   "metadata": {},
   "source": [
    "# Column vector notation of a qubit\n",
    "- $$|\\psi\\rangle = \\begin{pmatrix} \\alpha \\\\ \\beta \\end{pmatrix} = \\begin{pmatrix} \\alpha \\\\ 0 \\end{pmatrix} + \\begin{pmatrix} 0 \\\\ \\beta \\end{pmatrix} = \\alpha \\begin{pmatrix} 1 \\\\ 0 \\end{pmatrix} + \\beta \\begin{pmatrix} 0 \\\\ 1 \\end{pmatrix}$$\n",
    "## Basis \n",
    "- A basis of a vector space is a set of vectors that satifies the following constraints\n",
    "- **Linearly Independent** -> No vector in the **set** can be written as a linear combination of the other vectors in the set.\n",
    "\n",
    "- **Spanning** -> Any vector in the **vector space** can be written as  linear combination of the vectors in the set.\n",
    "- for example, Lego bricks can be said as basis. Each lego brick has a unique shape that you cant make by combining other magic bricks, but these bricks can be used to build any toy or sculpure you want.\n",
    "\n",
    "- A quantum state $|ψ\\rangle$\tcan be written as a linear combination of a basis set $|v_i\\rangle$\twith complex coefficients of expansion $c_i$ as:\n",
    "\n",
    " - $$|\\psi\\rangle = \\sum_{i=1}^n c_i|v_i\\rangle = c_1|v_1\\rangle + c_2|v_2\\rangle + \\cdots + c_n|v_n\\rangle$$\n"
   ]
  },
  {
   "cell_type": "markdown",
   "metadata": {},
   "source": [
    "# Inner product\n",
    "- The inner product between two vectors is calculated by,\n",
    "\n",
    "$$\\langle u|v\\rangle$$\n",
    "\n",
    "- If the inner product btw u and v is 0, then the given vectors are orthogonal to one another.\n",
    "\n",
    "- Conjugate of the inner product satifies the following equality.\n",
    "\n",
    "- $$(\\langle u|v \\rangle)^\\dagger = \\langle u|v \\rangle$$\n",
    "\n",
    "- The length of any given vector can be calculated using the root of the inner of product of the vector with itself.This is also known as norm of the vector.\n",
    "\n",
    "- $$||u|| = \\sqrt{ \\langle u|u \\rangle}$$\n",
    "\n",
    " ## Hermitian conjugate\n",
    "\n",
    "- It is the result of taking the complex conjugate of each element in a matrix and then transposing the resulting matrix.\n",
    "\n",
    "- In quantum computing, the Hermitian conjugate is a row vector of conjugates of ket vector.\n",
    "\n",
    "- $$(|v\\rangle)^* = \\langle v|$$ \n",
    "\n",
    "- This conjugation is known as bra vector.\n",
    "\n",
    "- Now we can calculate inner product by,\n",
    "\n",
    "- $$\\langle a|b\\rangle = \\begin{pmatrix} a_1^* & a_2^* & \\cdots & a_n^* \\end{pmatrix} \\begin{pmatrix} b_1 \\\\ b_2 \\\\ \\vdots \\\\ b_n \\end{pmatrix} = a_1^*b_1 + a_2^*b_2 + \\cdots + a_n^*b_n = \\sum_{i=1}^n a_i^*b_i$$"
   ]
  },
  {
   "cell_type": "markdown",
   "metadata": {},
   "source": [
    "# Normalization \n",
    "- when the length(**norm**) of the vector is unit, then the vector is normalized.That is,\n",
    "$$\\langle u|u\\rangle = 1$$\n",
    "- To normalize a vector we can do so by following.\n",
    "- $$|\\tilde{u} \\rangle = \\frac{|u\\rangle}{{\\|u\\|}}$$\n",
    "- if each element of a set of vectors is normalized and the elements are orthogonal (**inner product is 0**) with respect to each other, we say the set is orthonormal.\n",
    "\n",
    "- In simpler terms, two vectors which are both perpendicular and have a length of one, these vectors are called orthonormal vectors.\n",
    "\n"
   ]
  },
  {
   "cell_type": "markdown",
   "metadata": {},
   "source": [
    "# Bra-Ket Notation\n",
    "- **Vector Components:** You explicitly write out the vector components and perform matrix multiplication to find the inner product.\n",
    "- $$\\langle\\psi|\\phi\\rangle = (\\alpha^* \\beta^*)\\begin{pmatrix}\\gamma\\\\\\delta\\end{pmatrix} = \\alpha^*\\gamma + \\beta^*\\delta$$\n",
    "\n",
    "- **Bra-Ket Notation:** You use the abstract notation of bras and kets to represent states and leverage the properties of the inner product and orthonormality for a more intuitive and compact calculation.\n",
    "- $$\\langle\\psi|\\phi\\rangle = (\\alpha^*\\langle0| + \\beta^*\\langle1|)(\\gamma|0\\rangle + \\delta|1\\rangle) = \\alpha^*\\gamma + \\beta^*\\delta$$"
   ]
  },
  {
   "cell_type": "markdown",
   "metadata": {},
   "source": [
    "# Something to remember\n",
    "**Square of coefficient of state vectors**\n",
    "- In quantum mechanics, when we have a state vector |ψ⟩ expressed as a superposition of basis states, each basis state has a complex coefficient (amplitude). For example:\n",
    "$$|ψ⟩ = α|0⟩ + β|1⟩$$\n",
    "\n",
    "- The square of a coefficient **($|α|² or |β|²$)** represents the probability of measuring the system in that particular basis state. For instance, |α|² gives the probability of measuring the state |0⟩.\n",
    "Physical significance: These squared coefficients tell us the actual probabilities we would observe in repeated measurements. If |α|² = 0.7, it means that if we measured this qubit many times, about 70% of the measurements would yield state |0⟩.\n",
    "\n",
    "**Inner product between 2 state vectors**\n",
    "- The inner product $⟨φ|ψ⟩$ between two different state vectors gives us information about how similar or different these states are. It's a complex number in general.\n",
    "\n",
    "**Physical significance**\n",
    "\n",
    "- The magnitude squared of this inner product |⟨φ|ψ⟩|² represents the probability of measuring state |φ⟩ if the system is in state |ψ⟩.\n",
    "\n",
    "    - If $|⟨φ|ψ⟩| = 1$, the states are identical (up to a phase)\n",
    "    - If $⟨φ|ψ⟩ = 0$, the states are orthogonal (completely distinguishable)\n",
    "- For states in between, it gives us their degree of overlap or similarity\n",
    "\n",
    "\n",
    "**Inner product of a vector with itself (norm)**\n",
    "- The norm ⟨ψ|ψ⟩ is the inner product of a state with itself. For a properly normalized quantum state, this should always equal 1.\n",
    "\n",
    "**Physical significance**\n",
    "\n",
    "- Represents the total probability of finding the system in any state (must sum to 1)\n",
    "\n",
    "- Ensures conservation of probability (system must be somewhere)\n",
    "- A norm less than 1 would mean \"missing\" probability\n",
    "- A norm greater than 1 would mean more than 100% probability, which is unphysical\n",
    "\n",
    "**Practical example**\n",
    "- Consider a qubit in state |ψ⟩ = (1/√2)|0⟩ + (1/√2)|1⟩\n",
    "\n",
    "- The square of coefficients (both 1/2) tell us we have equal 50% probability of measuring 0 or 1\n",
    "- The inner product with a different state, say |0⟩, would give us 1/√2, meaning a 50% chance of measuring it in state |0⟩\n",
    "- The norm ⟨ψ|ψ⟩ = 1, confirming it's a valid quantum state"
   ]
  },
  {
   "cell_type": "markdown",
   "metadata": {},
   "source": []
  }
 ],
 "metadata": {
  "language_info": {
   "name": "python"
  }
 },
 "nbformat": 4,
 "nbformat_minor": 2
}
